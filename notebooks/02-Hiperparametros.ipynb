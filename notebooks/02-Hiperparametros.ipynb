{
 "cells": [
  {
   "cell_type": "markdown",
   "id": "db48070f-97fb-4e2c-803a-5f930c4a697a",
   "metadata": {},
   "source": [
    "# Hiperparâmetros\n",
    "- Para adiantar o processo, na proxima celula estará todo o primeiro passo da EDA"
   ]
  },
  {
   "cell_type": "code",
   "execution_count": 2,
   "id": "075ea689-2124-4785-b6a7-03f612351eaa",
   "metadata": {},
   "outputs": [],
   "source": [
    "# Importando as metricas\n",
    "import pandas as pd\n",
    "from sklearn import metrics\n",
    "from sklearn.preprocessing import MinMaxScaler\n",
    "from sklearn.metrics import confusion_matrix,recall_score,precision_score,auc\n",
    "import numpy as np\n",
    "from sklearn.model_selection import GridSearchCV\n",
    "# Importando a base\n",
    "base = pd.read_csv(r'..\\data\\creditcard.csv\\creditcard.csv')\n",
    "cols_MinMax = ['Time','Amount']\n",
    "scaler = MinMaxScaler()\n",
    "# Ajuste e transforme os dados das colunas selecionadas\n",
    "scaled_data = scaler.fit_transform(base[cols_MinMax])\n",
    "# Criando um novo DataFrame com os dados escalados\n",
    "scaled_df = pd.DataFrame(scaled_data, columns=cols_MinMax)\n",
    "# Substituindo as colunas na base\n",
    "base[['Time', 'Amount']] = scaled_df\n",
    "# Separando em X e y\n",
    "X=base.drop('Class',axis=1)\n",
    "y=base.Class\n",
    "#TrainTestSplit\n",
    "from sklearn.model_selection import train_test_split\n",
    "X_train, X_test, y_train, y_test = train_test_split(\n",
    "    X, y, test_size=0.33, random_state=42,stratify=y)\n",
    "#RUS\n",
    "from imblearn.under_sampling import RandomUnderSampler\n",
    "rus = RandomUnderSampler(random_state=42)\n",
    "X_res, y_res = rus.fit_resample(X_train, y_train)"
   ]
  },
  {
   "cell_type": "code",
   "execution_count": 3,
   "id": "48701761-2d81-4cd8-8fa6-e91750ebc856",
   "metadata": {},
   "outputs": [
    {
     "data": {
      "text/html": [
       "<div>\n",
       "<style scoped>\n",
       "    .dataframe tbody tr th:only-of-type {\n",
       "        vertical-align: middle;\n",
       "    }\n",
       "\n",
       "    .dataframe tbody tr th {\n",
       "        vertical-align: top;\n",
       "    }\n",
       "\n",
       "    .dataframe thead th {\n",
       "        text-align: right;\n",
       "    }\n",
       "</style>\n",
       "<table border=\"1\" class=\"dataframe\">\n",
       "  <thead>\n",
       "    <tr style=\"text-align: right;\">\n",
       "      <th></th>\n",
       "      <th>Time</th>\n",
       "      <th>V1</th>\n",
       "      <th>V2</th>\n",
       "      <th>V3</th>\n",
       "      <th>V4</th>\n",
       "      <th>V5</th>\n",
       "      <th>V6</th>\n",
       "      <th>V7</th>\n",
       "      <th>V8</th>\n",
       "      <th>V9</th>\n",
       "      <th>...</th>\n",
       "      <th>V21</th>\n",
       "      <th>V22</th>\n",
       "      <th>V23</th>\n",
       "      <th>V24</th>\n",
       "      <th>V25</th>\n",
       "      <th>V26</th>\n",
       "      <th>V27</th>\n",
       "      <th>V28</th>\n",
       "      <th>Amount</th>\n",
       "      <th>Class</th>\n",
       "    </tr>\n",
       "  </thead>\n",
       "  <tbody>\n",
       "    <tr>\n",
       "      <th>count</th>\n",
       "      <td>284807.000000</td>\n",
       "      <td>2.848070e+05</td>\n",
       "      <td>2.848070e+05</td>\n",
       "      <td>2.848070e+05</td>\n",
       "      <td>2.848070e+05</td>\n",
       "      <td>2.848070e+05</td>\n",
       "      <td>2.848070e+05</td>\n",
       "      <td>2.848070e+05</td>\n",
       "      <td>2.848070e+05</td>\n",
       "      <td>2.848070e+05</td>\n",
       "      <td>...</td>\n",
       "      <td>2.848070e+05</td>\n",
       "      <td>2.848070e+05</td>\n",
       "      <td>2.848070e+05</td>\n",
       "      <td>2.848070e+05</td>\n",
       "      <td>2.848070e+05</td>\n",
       "      <td>2.848070e+05</td>\n",
       "      <td>2.848070e+05</td>\n",
       "      <td>2.848070e+05</td>\n",
       "      <td>284807.000000</td>\n",
       "      <td>284807.000000</td>\n",
       "    </tr>\n",
       "    <tr>\n",
       "      <th>mean</th>\n",
       "      <td>0.548717</td>\n",
       "      <td>1.168375e-15</td>\n",
       "      <td>3.416908e-16</td>\n",
       "      <td>-1.379537e-15</td>\n",
       "      <td>2.074095e-15</td>\n",
       "      <td>9.604066e-16</td>\n",
       "      <td>1.487313e-15</td>\n",
       "      <td>-5.556467e-16</td>\n",
       "      <td>1.213481e-16</td>\n",
       "      <td>-2.406331e-15</td>\n",
       "      <td>...</td>\n",
       "      <td>1.654067e-16</td>\n",
       "      <td>-3.568593e-16</td>\n",
       "      <td>2.578648e-16</td>\n",
       "      <td>4.473266e-15</td>\n",
       "      <td>5.340915e-16</td>\n",
       "      <td>1.683437e-15</td>\n",
       "      <td>-3.660091e-16</td>\n",
       "      <td>-1.227390e-16</td>\n",
       "      <td>0.003439</td>\n",
       "      <td>0.001727</td>\n",
       "    </tr>\n",
       "    <tr>\n",
       "      <th>std</th>\n",
       "      <td>0.274828</td>\n",
       "      <td>1.958696e+00</td>\n",
       "      <td>1.651309e+00</td>\n",
       "      <td>1.516255e+00</td>\n",
       "      <td>1.415869e+00</td>\n",
       "      <td>1.380247e+00</td>\n",
       "      <td>1.332271e+00</td>\n",
       "      <td>1.237094e+00</td>\n",
       "      <td>1.194353e+00</td>\n",
       "      <td>1.098632e+00</td>\n",
       "      <td>...</td>\n",
       "      <td>7.345240e-01</td>\n",
       "      <td>7.257016e-01</td>\n",
       "      <td>6.244603e-01</td>\n",
       "      <td>6.056471e-01</td>\n",
       "      <td>5.212781e-01</td>\n",
       "      <td>4.822270e-01</td>\n",
       "      <td>4.036325e-01</td>\n",
       "      <td>3.300833e-01</td>\n",
       "      <td>0.009736</td>\n",
       "      <td>0.041527</td>\n",
       "    </tr>\n",
       "    <tr>\n",
       "      <th>min</th>\n",
       "      <td>0.000000</td>\n",
       "      <td>-5.640751e+01</td>\n",
       "      <td>-7.271573e+01</td>\n",
       "      <td>-4.832559e+01</td>\n",
       "      <td>-5.683171e+00</td>\n",
       "      <td>-1.137433e+02</td>\n",
       "      <td>-2.616051e+01</td>\n",
       "      <td>-4.355724e+01</td>\n",
       "      <td>-7.321672e+01</td>\n",
       "      <td>-1.343407e+01</td>\n",
       "      <td>...</td>\n",
       "      <td>-3.483038e+01</td>\n",
       "      <td>-1.093314e+01</td>\n",
       "      <td>-4.480774e+01</td>\n",
       "      <td>-2.836627e+00</td>\n",
       "      <td>-1.029540e+01</td>\n",
       "      <td>-2.604551e+00</td>\n",
       "      <td>-2.256568e+01</td>\n",
       "      <td>-1.543008e+01</td>\n",
       "      <td>0.000000</td>\n",
       "      <td>0.000000</td>\n",
       "    </tr>\n",
       "    <tr>\n",
       "      <th>25%</th>\n",
       "      <td>0.313681</td>\n",
       "      <td>-9.203734e-01</td>\n",
       "      <td>-5.985499e-01</td>\n",
       "      <td>-8.903648e-01</td>\n",
       "      <td>-8.486401e-01</td>\n",
       "      <td>-6.915971e-01</td>\n",
       "      <td>-7.682956e-01</td>\n",
       "      <td>-5.540759e-01</td>\n",
       "      <td>-2.086297e-01</td>\n",
       "      <td>-6.430976e-01</td>\n",
       "      <td>...</td>\n",
       "      <td>-2.283949e-01</td>\n",
       "      <td>-5.423504e-01</td>\n",
       "      <td>-1.618463e-01</td>\n",
       "      <td>-3.545861e-01</td>\n",
       "      <td>-3.171451e-01</td>\n",
       "      <td>-3.269839e-01</td>\n",
       "      <td>-7.083953e-02</td>\n",
       "      <td>-5.295979e-02</td>\n",
       "      <td>0.000218</td>\n",
       "      <td>0.000000</td>\n",
       "    </tr>\n",
       "    <tr>\n",
       "      <th>50%</th>\n",
       "      <td>0.490138</td>\n",
       "      <td>1.810880e-02</td>\n",
       "      <td>6.548556e-02</td>\n",
       "      <td>1.798463e-01</td>\n",
       "      <td>-1.984653e-02</td>\n",
       "      <td>-5.433583e-02</td>\n",
       "      <td>-2.741871e-01</td>\n",
       "      <td>4.010308e-02</td>\n",
       "      <td>2.235804e-02</td>\n",
       "      <td>-5.142873e-02</td>\n",
       "      <td>...</td>\n",
       "      <td>-2.945017e-02</td>\n",
       "      <td>6.781943e-03</td>\n",
       "      <td>-1.119293e-02</td>\n",
       "      <td>4.097606e-02</td>\n",
       "      <td>1.659350e-02</td>\n",
       "      <td>-5.213911e-02</td>\n",
       "      <td>1.342146e-03</td>\n",
       "      <td>1.124383e-02</td>\n",
       "      <td>0.000856</td>\n",
       "      <td>0.000000</td>\n",
       "    </tr>\n",
       "    <tr>\n",
       "      <th>75%</th>\n",
       "      <td>0.806290</td>\n",
       "      <td>1.315642e+00</td>\n",
       "      <td>8.037239e-01</td>\n",
       "      <td>1.027196e+00</td>\n",
       "      <td>7.433413e-01</td>\n",
       "      <td>6.119264e-01</td>\n",
       "      <td>3.985649e-01</td>\n",
       "      <td>5.704361e-01</td>\n",
       "      <td>3.273459e-01</td>\n",
       "      <td>5.971390e-01</td>\n",
       "      <td>...</td>\n",
       "      <td>1.863772e-01</td>\n",
       "      <td>5.285536e-01</td>\n",
       "      <td>1.476421e-01</td>\n",
       "      <td>4.395266e-01</td>\n",
       "      <td>3.507156e-01</td>\n",
       "      <td>2.409522e-01</td>\n",
       "      <td>9.104512e-02</td>\n",
       "      <td>7.827995e-02</td>\n",
       "      <td>0.003004</td>\n",
       "      <td>0.000000</td>\n",
       "    </tr>\n",
       "    <tr>\n",
       "      <th>max</th>\n",
       "      <td>1.000000</td>\n",
       "      <td>2.454930e+00</td>\n",
       "      <td>2.205773e+01</td>\n",
       "      <td>9.382558e+00</td>\n",
       "      <td>1.687534e+01</td>\n",
       "      <td>3.480167e+01</td>\n",
       "      <td>7.330163e+01</td>\n",
       "      <td>1.205895e+02</td>\n",
       "      <td>2.000721e+01</td>\n",
       "      <td>1.559499e+01</td>\n",
       "      <td>...</td>\n",
       "      <td>2.720284e+01</td>\n",
       "      <td>1.050309e+01</td>\n",
       "      <td>2.252841e+01</td>\n",
       "      <td>4.584549e+00</td>\n",
       "      <td>7.519589e+00</td>\n",
       "      <td>3.517346e+00</td>\n",
       "      <td>3.161220e+01</td>\n",
       "      <td>3.384781e+01</td>\n",
       "      <td>1.000000</td>\n",
       "      <td>1.000000</td>\n",
       "    </tr>\n",
       "  </tbody>\n",
       "</table>\n",
       "<p>8 rows × 31 columns</p>\n",
       "</div>"
      ],
      "text/plain": [
       "                Time            V1            V2            V3            V4  \\\n",
       "count  284807.000000  2.848070e+05  2.848070e+05  2.848070e+05  2.848070e+05   \n",
       "mean        0.548717  1.168375e-15  3.416908e-16 -1.379537e-15  2.074095e-15   \n",
       "std         0.274828  1.958696e+00  1.651309e+00  1.516255e+00  1.415869e+00   \n",
       "min         0.000000 -5.640751e+01 -7.271573e+01 -4.832559e+01 -5.683171e+00   \n",
       "25%         0.313681 -9.203734e-01 -5.985499e-01 -8.903648e-01 -8.486401e-01   \n",
       "50%         0.490138  1.810880e-02  6.548556e-02  1.798463e-01 -1.984653e-02   \n",
       "75%         0.806290  1.315642e+00  8.037239e-01  1.027196e+00  7.433413e-01   \n",
       "max         1.000000  2.454930e+00  2.205773e+01  9.382558e+00  1.687534e+01   \n",
       "\n",
       "                 V5            V6            V7            V8            V9  \\\n",
       "count  2.848070e+05  2.848070e+05  2.848070e+05  2.848070e+05  2.848070e+05   \n",
       "mean   9.604066e-16  1.487313e-15 -5.556467e-16  1.213481e-16 -2.406331e-15   \n",
       "std    1.380247e+00  1.332271e+00  1.237094e+00  1.194353e+00  1.098632e+00   \n",
       "min   -1.137433e+02 -2.616051e+01 -4.355724e+01 -7.321672e+01 -1.343407e+01   \n",
       "25%   -6.915971e-01 -7.682956e-01 -5.540759e-01 -2.086297e-01 -6.430976e-01   \n",
       "50%   -5.433583e-02 -2.741871e-01  4.010308e-02  2.235804e-02 -5.142873e-02   \n",
       "75%    6.119264e-01  3.985649e-01  5.704361e-01  3.273459e-01  5.971390e-01   \n",
       "max    3.480167e+01  7.330163e+01  1.205895e+02  2.000721e+01  1.559499e+01   \n",
       "\n",
       "       ...           V21           V22           V23           V24  \\\n",
       "count  ...  2.848070e+05  2.848070e+05  2.848070e+05  2.848070e+05   \n",
       "mean   ...  1.654067e-16 -3.568593e-16  2.578648e-16  4.473266e-15   \n",
       "std    ...  7.345240e-01  7.257016e-01  6.244603e-01  6.056471e-01   \n",
       "min    ... -3.483038e+01 -1.093314e+01 -4.480774e+01 -2.836627e+00   \n",
       "25%    ... -2.283949e-01 -5.423504e-01 -1.618463e-01 -3.545861e-01   \n",
       "50%    ... -2.945017e-02  6.781943e-03 -1.119293e-02  4.097606e-02   \n",
       "75%    ...  1.863772e-01  5.285536e-01  1.476421e-01  4.395266e-01   \n",
       "max    ...  2.720284e+01  1.050309e+01  2.252841e+01  4.584549e+00   \n",
       "\n",
       "                V25           V26           V27           V28         Amount  \\\n",
       "count  2.848070e+05  2.848070e+05  2.848070e+05  2.848070e+05  284807.000000   \n",
       "mean   5.340915e-16  1.683437e-15 -3.660091e-16 -1.227390e-16       0.003439   \n",
       "std    5.212781e-01  4.822270e-01  4.036325e-01  3.300833e-01       0.009736   \n",
       "min   -1.029540e+01 -2.604551e+00 -2.256568e+01 -1.543008e+01       0.000000   \n",
       "25%   -3.171451e-01 -3.269839e-01 -7.083953e-02 -5.295979e-02       0.000218   \n",
       "50%    1.659350e-02 -5.213911e-02  1.342146e-03  1.124383e-02       0.000856   \n",
       "75%    3.507156e-01  2.409522e-01  9.104512e-02  7.827995e-02       0.003004   \n",
       "max    7.519589e+00  3.517346e+00  3.161220e+01  3.384781e+01       1.000000   \n",
       "\n",
       "               Class  \n",
       "count  284807.000000  \n",
       "mean        0.001727  \n",
       "std         0.041527  \n",
       "min         0.000000  \n",
       "25%         0.000000  \n",
       "50%         0.000000  \n",
       "75%         0.000000  \n",
       "max         1.000000  \n",
       "\n",
       "[8 rows x 31 columns]"
      ]
     },
     "execution_count": 3,
     "metadata": {},
     "output_type": "execute_result"
    }
   ],
   "source": [
    "base.describe()"
   ]
  },
  {
   "cell_type": "markdown",
   "id": "dbb6c909-c6fc-4533-a90b-ae7fcf3cab95",
   "metadata": {},
   "source": [
    "### Modelos escolhidos:\n",
    "- RL\n",
    "- SVC\n",
    "- KNN\n",
    "- RF\n",
    "#### RL"
   ]
  },
  {
   "cell_type": "code",
   "execution_count": 5,
   "id": "e76f5b0c-6afd-41fc-a60b-818c846b6aec",
   "metadata": {},
   "outputs": [],
   "source": [
    "from sklearn.linear_model import LogisticRegression\n",
    "clf_RL = LogisticRegression(random_state=42).fit(X_res, y_res)\n",
    "y_pred_RL = clf_RL.predict(X_test)\n",
    "y_pred_proba_RL = clf_RL.predict_proba(X_test)[:,1]"
   ]
  },
  {
   "cell_type": "code",
   "execution_count": 6,
   "id": "1f49e770-17b3-4732-b4e0-0707283c008d",
   "metadata": {},
   "outputs": [
    {
     "data": {
      "text/plain": [
       "array([[89868,  3957],\n",
       "       [   15,   147]], dtype=int64)"
      ]
     },
     "execution_count": 6,
     "metadata": {},
     "output_type": "execute_result"
    }
   ],
   "source": [
    "confusion_matrix(y_test, y_pred_RL)"
   ]
  },
  {
   "cell_type": "code",
   "execution_count": 7,
   "id": "c3bdf7d6-7b97-4b55-8257-c5f1f6a3534c",
   "metadata": {},
   "outputs": [],
   "source": [
    "import warnings\n",
    "warnings.filterwarnings('ignore')\n",
    "# Definindo os valores de C (regularização) para explorar\n",
    "#C_values = np.logspace(-2, 3, num=6)\n",
    "# Definindo os parâmetros para o GridSearch\n",
    "parameters = {\n",
    "    'C': [0.001,0.01, 0.1, 1, 10, 100, 1000], \n",
    "    'solver': ['liblinear', 'saga', 'newton-cg', 'lbfgs','sag'],  \n",
    "}\n",
    "\n",
    "# Criando o classificador de Regressão Logística\n",
    "RL_GS = LogisticRegression(random_state=42)\n",
    "clf_GS_LR = GridSearchCV(RL_GS, \n",
    "                             parameters, \n",
    "                             scoring='recall').fit(X_res, y_res)"
   ]
  },
  {
   "cell_type": "code",
   "execution_count": 8,
   "id": "e087f762-17b8-45b6-885f-24927c30d6b2",
   "metadata": {},
   "outputs": [
    {
     "data": {
      "text/plain": [
       "{'C': 0.001, 'solver': 'liblinear'}"
      ]
     },
     "execution_count": 8,
     "metadata": {},
     "output_type": "execute_result"
    }
   ],
   "source": [
    "# Verificando quais os melhores parametros para o SVM\n",
    "clf_GS_LR.best_params_"
   ]
  },
  {
   "cell_type": "code",
   "execution_count": 9,
   "id": "8f4f66c6-a83f-4bfd-988c-eb5668df8a55",
   "metadata": {},
   "outputs": [],
   "source": [
    "#Fazendo a predição com os melhores parametros\n",
    "y_pred_RL_GS = clf_GS_LR.predict(X_test)"
   ]
  },
  {
   "cell_type": "code",
   "execution_count": 10,
   "id": "90426550-e6bd-4898-9705-c209b237447f",
   "metadata": {},
   "outputs": [
    {
     "data": {
      "text/plain": [
       "array([[81700, 12125],\n",
       "       [   10,   152]], dtype=int64)"
      ]
     },
     "execution_count": 10,
     "metadata": {},
     "output_type": "execute_result"
    }
   ],
   "source": [
    "#Usando a confusion Matrix\n",
    "confusion_matrix(y_test, y_pred_RL_GS)"
   ]
  },
  {
   "cell_type": "markdown",
   "id": "586fca5a-d1df-49dd-aa15-508a9e02ed09",
   "metadata": {},
   "source": [
    "- Neste primeiro caso, pioramos o os casos que de falso positivos, mas melhoramos os verdadeiros positivos.\n",
    "#### SVC"
   ]
  },
  {
   "cell_type": "code",
   "execution_count": 12,
   "id": "4ba8691e-3cad-41c1-ad53-c4d90bb63468",
   "metadata": {},
   "outputs": [],
   "source": [
    "from sklearn.svm import SVC\n",
    "clf_SVC = SVC(random_state=42,probability=True).fit(X_res, y_res)\n",
    "y_pred_SVC = clf_SVC.predict(X_test)\n",
    "y_pred_proba_SVC = clf_SVC.predict_proba(X_test)[:,1]"
   ]
  },
  {
   "cell_type": "code",
   "execution_count": 13,
   "id": "e53d8205-541e-47ef-a949-7a4a0539a354",
   "metadata": {},
   "outputs": [
    {
     "data": {
      "text/plain": [
       "array([[92433,  1392],\n",
       "       [   24,   138]], dtype=int64)"
      ]
     },
     "execution_count": 13,
     "metadata": {},
     "output_type": "execute_result"
    }
   ],
   "source": [
    "confusion_matrix(y_test, y_pred_SVC)"
   ]
  },
  {
   "cell_type": "code",
   "execution_count": 14,
   "id": "a0f5d3f6-6ef8-489d-b29d-41e1f5c7b03c",
   "metadata": {},
   "outputs": [
    {
     "data": {
      "text/plain": [
       "array([1.e-02, 1.e-01, 1.e+00, 1.e+01, 1.e+02])"
      ]
     },
     "execution_count": 14,
     "metadata": {},
     "output_type": "execute_result"
    }
   ],
   "source": [
    "C_values = np.logspace(-2, 2, num=5)\n",
    "C_values"
   ]
  },
  {
   "cell_type": "code",
   "execution_count": 15,
   "id": "2174b180-1187-4614-bb83-819f50db6fb8",
   "metadata": {},
   "outputs": [],
   "source": [
    "from sklearn.model_selection import GridSearchCV\n",
    "# Para variar o valor de C de 0.01 até 1000\n",
    "C_values = np.logspace(-2, 3, num=6)\n",
    "#Escolhendo os parametros \n",
    "parameters = {'kernel':('linear', 'rbf','poly','sigmoid'), \n",
    "              'C':C_values,\n",
    "             'class_weight': [None, 'balanced']}\n",
    "#Criando um classificado e fazendo o fit\n",
    "svc_GS = SVC(random_state=42,probability=True)\n",
    "clf_GS_SVM = GridSearchCV(svc_GS, \n",
    "                          parameters, \n",
    "                          scoring='recall').fit(X_res,y_res)"
   ]
  },
  {
   "cell_type": "code",
   "execution_count": 16,
   "id": "4f97cfcf-28cc-4450-9ec3-74ce93a30a92",
   "metadata": {},
   "outputs": [
    {
     "data": {
      "text/plain": [
       "{'C': 1000.0, 'class_weight': None, 'kernel': 'linear'}"
      ]
     },
     "execution_count": 16,
     "metadata": {},
     "output_type": "execute_result"
    }
   ],
   "source": [
    "# Verificando quais os melhores parametros para o SVM\n",
    "clf_GS_SVM.best_params_"
   ]
  },
  {
   "cell_type": "code",
   "execution_count": 17,
   "id": "ac0ac46a-8f53-48c4-b3ad-8e5bdc2abe8f",
   "metadata": {},
   "outputs": [],
   "source": [
    "#Fazendo a predição com os melhores parametros\n",
    "y_pred_SVM_GS = clf_GS_SVM.predict(X_test)"
   ]
  },
  {
   "cell_type": "code",
   "execution_count": 18,
   "id": "53d46f10-8be8-4dba-8f79-5c62d0bc048d",
   "metadata": {},
   "outputs": [
    {
     "data": {
      "text/plain": [
       "array([[89098,  4727],\n",
       "       [   14,   148]], dtype=int64)"
      ]
     },
     "execution_count": 18,
     "metadata": {},
     "output_type": "execute_result"
    }
   ],
   "source": [
    "#Usando a confusion Matrix\n",
    "confusion_matrix(y_test, y_pred_SVM_GS)"
   ]
  },
  {
   "cell_type": "markdown",
   "id": "0f0f2561-3b88-41de-a119-96c3678e0d82",
   "metadata": {},
   "source": [
    "- Comparado ao RL, melhoramos o os casos que de falso positivos, mas pioramos os verdadeiros positivos\n",
    "#### KNN"
   ]
  },
  {
   "cell_type": "code",
   "execution_count": 20,
   "id": "7e4eb9d1-55fc-4e9b-a309-1bc84993058e",
   "metadata": {},
   "outputs": [],
   "source": [
    "from sklearn.neighbors import KNeighborsClassifier\n",
    "clf_KNN = KNeighborsClassifier().fit(X_res, y_res)\n",
    "y_pred_KNN = clf_KNN.predict(X_test)\n",
    "y_pred_proba_KNN = clf_KNN.predict_proba(X_test)[:,1]"
   ]
  },
  {
   "cell_type": "code",
   "execution_count": 21,
   "id": "f6d9a944-f8f1-4407-8621-dbecd183ed3f",
   "metadata": {},
   "outputs": [
    {
     "data": {
      "text/plain": [
       "array([[91929,  1896],\n",
       "       [   19,   143]], dtype=int64)"
      ]
     },
     "execution_count": 21,
     "metadata": {},
     "output_type": "execute_result"
    }
   ],
   "source": [
    "confusion_matrix(y_test, y_pred_KNN)"
   ]
  },
  {
   "cell_type": "code",
   "execution_count": 22,
   "id": "936f9195-ca3c-49e9-a221-89c060875ac3",
   "metadata": {},
   "outputs": [],
   "source": [
    "#Escolhendo os parametros \n",
    "\n",
    "parameters = {'n_neighbors':[3, 5, 7, 9], \n",
    "              'weights':(\"uniform\", \"distance\"),\n",
    "             'algorithm': (\"auto\", \"ball_tree\", \"kd_tree\", \"brute\")}\n",
    "#Criando um classificado e fazendo o fit\n",
    "KNN_GS = KNeighborsClassifier()\n",
    "clf_GS_KNN = GridSearchCV(KNN_GS, \n",
    "                          parameters, \n",
    "                          scoring='recall').fit(X_res,y_res)"
   ]
  },
  {
   "cell_type": "code",
   "execution_count": 23,
   "id": "2b57280f-72c4-4874-8caa-9ccc2ae7ab55",
   "metadata": {},
   "outputs": [
    {
     "data": {
      "text/plain": [
       "{'algorithm': 'auto', 'n_neighbors': 3, 'weights': 'uniform'}"
      ]
     },
     "execution_count": 23,
     "metadata": {},
     "output_type": "execute_result"
    }
   ],
   "source": [
    "# Verificando quais os melhores parametros para o SVM\n",
    "clf_GS_KNN.best_params_"
   ]
  },
  {
   "cell_type": "code",
   "execution_count": 24,
   "id": "8269dfb9-2cae-4b4d-8d68-ec7f08fdaba2",
   "metadata": {},
   "outputs": [],
   "source": [
    "#Fazendo a predição com os melhores parametros\n",
    "y_pred_KNN_GS = clf_GS_KNN.predict(X_test)"
   ]
  },
  {
   "cell_type": "code",
   "execution_count": 25,
   "id": "7c5c73b4-4d0e-4e8f-b185-00601a5beaeb",
   "metadata": {},
   "outputs": [
    {
     "data": {
      "text/plain": [
       "array([[91136,  2689],\n",
       "       [   15,   147]], dtype=int64)"
      ]
     },
     "execution_count": 25,
     "metadata": {},
     "output_type": "execute_result"
    }
   ],
   "source": [
    "#Usando a confusion Matrix\n",
    "confusion_matrix(y_test, y_pred_KNN_GS)"
   ]
  },
  {
   "cell_type": "markdown",
   "id": "84e3c0ae-7cf0-44a1-9a3b-8f260564abca",
   "metadata": {},
   "source": [
    "- Em comparação com o SVC, melhoramos os verdadeiros positivos, porém em comparação ao KNN pioramos os Falso positivo.\n",
    "#### RF"
   ]
  },
  {
   "cell_type": "code",
   "execution_count": 27,
   "id": "5dc75988-8075-4c35-8369-03776db985e8",
   "metadata": {},
   "outputs": [],
   "source": [
    "from sklearn.ensemble import RandomForestClassifier\n",
    "clf_RF =RandomForestClassifier(max_depth=2, random_state=42).fit(X_res, y_res)\n",
    "y_pred_RF = clf_RF.predict(X_test)\n",
    "y_pred_proba_RF = clf_RF.predict_proba(X_test)[:,1]"
   ]
  },
  {
   "cell_type": "code",
   "execution_count": 28,
   "id": "e8c5cf82-7f10-4e3a-9a65-d13196706cdd",
   "metadata": {},
   "outputs": [
    {
     "data": {
      "text/plain": [
       "array([[93221,   604],\n",
       "       [   26,   136]], dtype=int64)"
      ]
     },
     "execution_count": 28,
     "metadata": {},
     "output_type": "execute_result"
    }
   ],
   "source": [
    "confusion_matrix(y_test, y_pred_RF)"
   ]
  },
  {
   "cell_type": "code",
   "execution_count": 29,
   "id": "87bea1f7-52ce-4b4d-9f4d-41785be2eebb",
   "metadata": {},
   "outputs": [],
   "source": [
    "#Escolhendo os parametros \n",
    "\n",
    "parameters = {'n_estimators':[50, 100, 200, 400], \n",
    "              'criterion':(\"gini\", \"entropy\", \"log_loss\"),\n",
    "             'max_depth': [1,3,5,7,9,12]}\n",
    "#Criando um classificado e fazendo o fit\n",
    "RF_GS = RandomForestClassifier(random_state=42)\n",
    "clf_GS_RF = GridSearchCV(RF_GS, \n",
    "                          parameters, \n",
    "                          scoring='recall').fit(X_res,y_res)"
   ]
  },
  {
   "cell_type": "code",
   "execution_count": 30,
   "id": "cfbc57c7-a5ef-4d41-bb4b-bc26c286716c",
   "metadata": {},
   "outputs": [
    {
     "data": {
      "text/plain": [
       "{'criterion': 'gini', 'max_depth': 9, 'n_estimators': 200}"
      ]
     },
     "execution_count": 30,
     "metadata": {},
     "output_type": "execute_result"
    }
   ],
   "source": [
    "# Verificando quais os melhores parametros para o SVM\n",
    "clf_GS_RF.best_params_"
   ]
  },
  {
   "cell_type": "code",
   "execution_count": 31,
   "id": "648659db-62a4-4bc7-a666-6d4346b0a525",
   "metadata": {},
   "outputs": [],
   "source": [
    "#Fazendo a predição com os melhores parametros\n",
    "y_pred_RF_GS = clf_GS_RF.predict(X_test)"
   ]
  },
  {
   "cell_type": "code",
   "execution_count": 32,
   "id": "723a0921-d672-4566-9c62-4a9f2a1095b7",
   "metadata": {},
   "outputs": [
    {
     "data": {
      "text/plain": [
       "array([[91531,  2294],\n",
       "       [   19,   143]], dtype=int64)"
      ]
     },
     "execution_count": 32,
     "metadata": {},
     "output_type": "execute_result"
    }
   ],
   "source": [
    "#Usando a confusion Matrix\n",
    "confusion_matrix(y_test, y_pred_RF_GS)"
   ]
  },
  {
   "cell_type": "code",
   "execution_count": 33,
   "id": "10be800d-6524-4846-bffe-be05095311f2",
   "metadata": {},
   "outputs": [
    {
     "data": {
      "text/plain": [
       "array([[91531,  2294],\n",
       "       [   19,   143]], dtype=int64)"
      ]
     },
     "execution_count": 33,
     "metadata": {},
     "output_type": "execute_result"
    }
   ],
   "source": [
    "#Usando a confusion Matrix\n",
    "confusion_matrix(y_test, y_pred_RF_GS)"
   ]
  },
  {
   "cell_type": "markdown",
   "id": "cb9db203-a244-4840-8c4f-662e2cb9a1e5",
   "metadata": {},
   "source": [
    "- Em relação ao KNN, uma melhora nos falso positivos, porém uma piora nos verdadeiros positivos.\n",
    "### Decisão:\n",
    "- Por se tratar de um problema de identificação de fraude, optei por utilizar o modelo de Regressão Linear, por ter sido o modelo que mais teve verdadeiros positivos (152).\n",
    "- Um segundo e cenário seria, \"a empresa irá ligar para todos os clientes que o algoritimo prever como fraude\", logo nesse caso, se o objetivo principal é reduzir o número de falsas positivas para evitar ligações desnecessárias e custos associados, o RandomForest é a melhor escolha.\n",
    "\n",
    "### Tentando adicionar mais hiperparâmetros em RL"
   ]
  },
  {
   "cell_type": "code",
   "execution_count": 35,
   "id": "5ec86b4c-634c-4b12-82a8-f443222c998b",
   "metadata": {},
   "outputs": [],
   "source": [
    "from sklearn.linear_model import LogisticRegression\n",
    "clf_RL = LogisticRegression(random_state=42).fit(X_res, y_res)\n",
    "y_pred_RL = clf_RL.predict(X_test)\n",
    "y_pred_proba_RL = clf_RL.predict_proba(X_test)[:,1]"
   ]
  },
  {
   "cell_type": "code",
   "execution_count": 36,
   "id": "6d698f61-e602-41c9-8ba9-60ebf6d78090",
   "metadata": {},
   "outputs": [],
   "source": [
    "warnings.filterwarnings('ignore')\n",
    "# Definindo os valores de C (regularização) para explorar\n",
    "#C_values = np.logspace(-2, 3, num=6)\n",
    "# Definindo os parâmetros para o GridSearch\n",
    "parameters = {\n",
    "    'C': [0.001,0.01, 0.1, 1, 10, 100, 1000],\n",
    "    'penalty': ['l1', 'l2','elasticnet',None], \n",
    "    'solver': ['liblinear', 'saga', 'newton-cg', 'lbfgs','sag','newton-cholesky'], \n",
    "    'max_iter':[100,150,200, 1000]\n",
    "}\n",
    "\n",
    "# Criando o classificador de Regressão Logística\n",
    "RL_GS = LogisticRegression(random_state=42)\n",
    "clf_GS_LR = GridSearchCV(RL_GS, \n",
    "                             parameters, \n",
    "                             scoring='recall').fit(X_res, y_res)"
   ]
  },
  {
   "cell_type": "code",
   "execution_count": 37,
   "id": "d9407e83-73ce-4113-aaa1-4023de961754",
   "metadata": {},
   "outputs": [
    {
     "data": {
      "text/plain": [
       "{'C': 0.01, 'max_iter': 100, 'penalty': 'l1', 'solver': 'liblinear'}"
      ]
     },
     "execution_count": 37,
     "metadata": {},
     "output_type": "execute_result"
    }
   ],
   "source": [
    "# Verificando quais os melhores parametros para o SVM\n",
    "clf_GS_LR.best_params_"
   ]
  },
  {
   "cell_type": "code",
   "execution_count": 38,
   "id": "e33e9357-a434-43ee-aff7-0c7f9ed12e1c",
   "metadata": {},
   "outputs": [],
   "source": [
    "#Fazendo a predição com os melhores parametros\n",
    "y_pred_RL_GS = clf_GS_LR.predict(X_test)"
   ]
  },
  {
   "cell_type": "code",
   "execution_count": 39,
   "id": "cc1a72d0-8a6e-4efe-8013-00f1db39662f",
   "metadata": {},
   "outputs": [
    {
     "data": {
      "text/plain": [
       "array([[81095, 12730],\n",
       "       [   10,   152]], dtype=int64)"
      ]
     },
     "execution_count": 39,
     "metadata": {},
     "output_type": "execute_result"
    }
   ],
   "source": [
    "#Usando a confusion Matrix\n",
    "confusion_matrix(y_test, y_pred_RL_GS)"
   ]
  },
  {
   "cell_type": "code",
   "execution_count": 40,
   "id": "52972a25-ef3c-459b-b346-795e38e3359d",
   "metadata": {},
   "outputs": [
    {
     "data": {
      "text/plain": [
       "0.9382716049382716"
      ]
     },
     "execution_count": 40,
     "metadata": {},
     "output_type": "execute_result"
    }
   ],
   "source": [
    "recall_score(y_test,y_pred_RL_GS)"
   ]
  },
  {
   "cell_type": "markdown",
   "id": "7eca478b-90e8-42a7-919c-316cb985935a",
   "metadata": {},
   "source": [
    "- Adicionando mais hiperparâmetros não melhorou nosso modelo, logo manteremos o primeiro modelo.\n",
    "- Para tentar melhorar o modelo, utilizarei outras formas de undersampling\n",
    "### NearMiss"
   ]
  },
  {
   "cell_type": "code",
   "execution_count": 42,
   "id": "61bb643d-6726-4b0b-883b-85e2ec77549d",
   "metadata": {},
   "outputs": [],
   "source": [
    "from imblearn.under_sampling import NearMiss\n",
    "nm = NearMiss()\n",
    "X_resNM, y_resNM = nm.fit_resample(X_train, y_train)"
   ]
  },
  {
   "cell_type": "code",
   "execution_count": 43,
   "id": "a562314e-c43d-4e90-a6c3-cfdae31ac906",
   "metadata": {},
   "outputs": [],
   "source": [
    "warnings.filterwarnings('ignore')\n",
    "# Definindo os valores de C (regularização) para explorar\n",
    "#C_values = np.logspace(-2, 3, num=6)\n",
    "# Definindo os parâmetros para o GridSearch\n",
    "parameters = {\n",
    "    'C': [0.001,0.01, 0.1, 1, 10, 100, 1000],\n",
    "    'penalty': ['l1', 'l2','elasticnet',None], \n",
    "    'solver': ['liblinear', 'saga', 'newton-cg', 'lbfgs','sag','newton-cholesky'], \n",
    "    'max_iter':[100,150,200, 1000]\n",
    "}\n",
    "\n",
    "# Criando o classificador de Regressão Logística\n",
    "RL_GS = LogisticRegression(random_state=42)\n",
    "clf_GS_LR = GridSearchCV(RL_GS, \n",
    "                             parameters, \n",
    "                             scoring='recall').fit(X_resNM, y_resNM)"
   ]
  },
  {
   "cell_type": "code",
   "execution_count": 44,
   "id": "70b8d3cb-0d2d-4fdc-8b52-400af443b4fc",
   "metadata": {},
   "outputs": [
    {
     "data": {
      "text/plain": [
       "{'C': 1000, 'max_iter': 100, 'penalty': 'l2', 'solver': 'newton-cholesky'}"
      ]
     },
     "execution_count": 44,
     "metadata": {},
     "output_type": "execute_result"
    }
   ],
   "source": [
    "# Verificando quais os melhores parametros para o SVM\n",
    "clf_GS_LR.best_params_"
   ]
  },
  {
   "cell_type": "code",
   "execution_count": 45,
   "id": "90367918-2cdf-4d9b-80f1-aa519cf9a50b",
   "metadata": {},
   "outputs": [],
   "source": [
    "#Fazendo a predição com os melhores parametros\n",
    "y_pred_RL_GS = clf_GS_LR.predict(X_test)"
   ]
  },
  {
   "cell_type": "code",
   "execution_count": 46,
   "id": "a86b9c9b-d32a-4cd1-9477-c22bf4c28f42",
   "metadata": {},
   "outputs": [
    {
     "data": {
      "text/plain": [
       "array([[49285, 44540],\n",
       "       [   12,   150]], dtype=int64)"
      ]
     },
     "execution_count": 46,
     "metadata": {},
     "output_type": "execute_result"
    }
   ],
   "source": [
    "#Usando a confusion Matrix\n",
    "confusion_matrix(y_test, y_pred_RL_GS)"
   ]
  },
  {
   "cell_type": "markdown",
   "id": "f3173506-ca35-4452-a7a7-fa44fad45d28",
   "metadata": {},
   "source": [
    "- Aumentaram bastante os resultados de falso positivos sem ganhos em outro quadrante.\n",
    "### Cluster Centroids"
   ]
  },
  {
   "cell_type": "code",
   "execution_count": 48,
   "id": "a01c643a-b6d9-4e5b-b12c-98a535951392",
   "metadata": {},
   "outputs": [],
   "source": [
    "from imblearn.under_sampling import ClusterCentroids\n",
    "cc = ClusterCentroids(random_state=42)\n",
    "X_resCC, y_resCC = cc.fit_resample(X_train, y_train)"
   ]
  },
  {
   "cell_type": "code",
   "execution_count": 49,
   "id": "c9819765-e0a1-49ac-a2a7-3482e9afa976",
   "metadata": {},
   "outputs": [],
   "source": [
    "import warnings\n",
    "warnings.filterwarnings('ignore')\n",
    "# Definindo os valores de C (regularização) para explorar\n",
    "#C_values = np.logspace(-2, 3, num=6)\n",
    "# Definindo os parâmetros para o GridSearch\n",
    "parameters = {\n",
    "    'C': [0.001,0.01, 0.1, 1, 10, 100, 1000], \n",
    "    'solver': ['liblinear', 'saga', 'newton-cg', 'lbfgs','sag'],  \n",
    "}\n",
    "\n",
    "# Criando o classificador de Regressão Logística\n",
    "RL_GS = LogisticRegression(random_state=42)\n",
    "clf_GS_LR = GridSearchCV(RL_GS, \n",
    "                             parameters, \n",
    "                             scoring='recall').fit(X_resCC, y_resCC)"
   ]
  },
  {
   "cell_type": "code",
   "execution_count": 50,
   "id": "d208e3a9-a4e5-4137-9283-733607186e77",
   "metadata": {},
   "outputs": [
    {
     "data": {
      "text/plain": [
       "{'C': 0.001, 'solver': 'liblinear'}"
      ]
     },
     "execution_count": 50,
     "metadata": {},
     "output_type": "execute_result"
    }
   ],
   "source": [
    "# Verificando quais os melhores parametros para o RL\n",
    "clf_GS_LR.best_params_"
   ]
  },
  {
   "cell_type": "code",
   "execution_count": 51,
   "id": "ff1bfd12-7780-4d45-85f6-d1fae1f5a168",
   "metadata": {},
   "outputs": [],
   "source": [
    "#Fazendo a predição com os melhores parametros\n",
    "y_pred_RL_GS = clf_GS_LR.predict(X_test)"
   ]
  },
  {
   "cell_type": "code",
   "execution_count": 52,
   "id": "f82cd0fa-8f76-4876-8b3d-6f170b982b75",
   "metadata": {},
   "outputs": [
    {
     "data": {
      "text/plain": [
       "array([[74026, 19799],\n",
       "       [   13,   149]], dtype=int64)"
      ]
     },
     "execution_count": 52,
     "metadata": {},
     "output_type": "execute_result"
    }
   ],
   "source": [
    "#Usando a confusion Matrix\n",
    "confusion_matrix(y_test, y_pred_RL_GS)"
   ]
  },
  {
   "cell_type": "markdown",
   "id": "001350c2-3a8f-41e5-a83c-fc54a94b0adf",
   "metadata": {},
   "source": [
    "- Em Relação ao NearMiss, uma melhora consideravel com os falsos positivos, porém ainda pior que o modelo de RUS.\n",
    "#### Tentanto melhorar o GridSearch da RL inicial adicionando a Precisão"
   ]
  },
  {
   "cell_type": "code",
   "execution_count": 54,
   "id": "56def2a4-a75b-42f0-9c9b-4bd68b9a77d7",
   "metadata": {},
   "outputs": [],
   "source": [
    "import warnings\n",
    "warnings.filterwarnings('ignore')\n",
    "# Definindo os valores de C (regularização) para explorar\n",
    "#C_values = np.logspace(-2, 3, num=6)\n",
    "# Definindo os parâmetros para o GridSearch\n",
    "parameters = {\n",
    "    'C': [0.001,0.01, 0.1, 1, 10, 100, 1000], \n",
    "    'solver': ['liblinear', 'saga', 'newton-cg', 'lbfgs','sag'],  \n",
    "}\n",
    "\n",
    "# Criando o classificador de Regressão Logística\n",
    "RL_GS = LogisticRegression(random_state=42)\n",
    "clf_GS_LR = GridSearchCV(RL_GS, \n",
    "                             parameters, \n",
    "                             scoring=['recall','precision'],refit='recall').fit(X_res, y_res)"
   ]
  },
  {
   "cell_type": "code",
   "execution_count": 55,
   "id": "6721cfeb-4e75-4106-a1f2-b4ce5cd396d9",
   "metadata": {},
   "outputs": [
    {
     "data": {
      "text/plain": [
       "{'C': 0.001, 'solver': 'liblinear'}"
      ]
     },
     "execution_count": 55,
     "metadata": {},
     "output_type": "execute_result"
    }
   ],
   "source": [
    "# Verificando quais os melhores parametros para o RL\n",
    "clf_GS_LR.best_params_"
   ]
  },
  {
   "cell_type": "code",
   "execution_count": 56,
   "id": "bef50ecf-bdcb-438a-8b57-ce9437eed07e",
   "metadata": {},
   "outputs": [],
   "source": [
    "#Fazendo a predição com os melhores parametros\n",
    "y_pred_RL_GS = clf_GS_LR.predict(X_test)"
   ]
  },
  {
   "cell_type": "code",
   "execution_count": 57,
   "id": "bc6df4a8-0977-4fad-8c53-c630b32bd688",
   "metadata": {},
   "outputs": [
    {
     "data": {
      "text/plain": [
       "array([[81700, 12125],\n",
       "       [   10,   152]], dtype=int64)"
      ]
     },
     "execution_count": 57,
     "metadata": {},
     "output_type": "execute_result"
    }
   ],
   "source": [
    "#Usando a confusion Matrix\n",
    "confusion_matrix(y_test, y_pred_RL_GS)"
   ]
  },
  {
   "cell_type": "code",
   "execution_count": 58,
   "id": "0abdc86c-0cae-4233-b5a7-a6a84b586778",
   "metadata": {},
   "outputs": [
    {
     "name": "stdout",
     "output_type": "stream",
     "text": [
      "0.9382716049382716\n",
      "0.012380874806548831\n"
     ]
    }
   ],
   "source": [
    "#Metrica final do nosso modelo\n",
    "print(recall_score(y_test,y_pred_RL_GS))\n",
    "print(precision_score(y_test,y_pred_RL_GS))"
   ]
  },
  {
   "cell_type": "markdown",
   "id": "dace3107-cc3d-4631-8936-d9cbf4b34d3a",
   "metadata": {},
   "source": [
    "# Supondo e demonstrando preço de fraudes"
   ]
  },
  {
   "cell_type": "code",
   "execution_count": 60,
   "id": "8a2df50f-49ff-4607-9654-17d6633aec80",
   "metadata": {},
   "outputs": [
    {
     "name": "stdout",
     "output_type": "stream",
     "text": [
      "Esse modelo custa R$ 13031.25 para a empresa\n"
     ]
    }
   ],
   "source": [
    "cm = confusion_matrix(y_test, y_pred_RL_GS)\n",
    "# Supondo que cada fraude custa 1000\n",
    "preco_fraude = 1000\n",
    "# E que o custo da análise custa 0.25\n",
    "preço_analise = 0.25\n",
    "# O custo de rodar o modelo custa:\n",
    "custo_do_modelo = cm[1][0] *preco_fraude + cm[0][1]*preço_analise\n",
    "print(f'Esse modelo custa R$ {custo_do_modelo} para a empresa')"
   ]
  },
  {
   "cell_type": "code",
   "execution_count": null,
   "id": "fa26335c-dd7b-42c6-bda4-a027a224093d",
   "metadata": {},
   "outputs": [],
   "source": []
  }
 ],
 "metadata": {
  "kernelspec": {
   "display_name": "Python 3 (ipykernel)",
   "language": "python",
   "name": "python3"
  },
  "language_info": {
   "codemirror_mode": {
    "name": "ipython",
    "version": 3
   },
   "file_extension": ".py",
   "mimetype": "text/x-python",
   "name": "python",
   "nbconvert_exporter": "python",
   "pygments_lexer": "ipython3",
   "version": "3.12.4"
  }
 },
 "nbformat": 4,
 "nbformat_minor": 5
}
